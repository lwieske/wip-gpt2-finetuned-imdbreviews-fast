{
 "cells": [
  {
   "attachments": {},
   "cell_type": "markdown",
   "metadata": {},
   "source": [
    "# Finetune A Pretrained GPT-2 Model On IMDB"
   ]
  },
  {
   "attachments": {},
   "cell_type": "markdown",
   "metadata": {},
   "source": [
    "- [x] M1\n",
    "- [x] Colab\n",
    "- [ ] [Wakaka/bert-finetuned-imdb](https://huggingface.co/Wakaka/bert-finetuned-imdb)\n",
    "- [ ] [Damon-Salvatore-liu/bert_imdb](https://github.com/Damon-Salvatore-liu/bert_imdb/blob/main/test.ipynb)"
   ]
  },
  {
   "cell_type": "code",
   "execution_count": 1,
   "metadata": {},
   "outputs": [],
   "source": [
    "DATASET=\"imdb\"\n",
    "\n",
    "MODEL=\"gpt2\""
   ]
  },
  {
   "cell_type": "code",
   "execution_count": 2,
   "metadata": {},
   "outputs": [
    {
     "name": "stdout",
     "output_type": "stream",
     "text": [
      "Python:                3.10.9 | packaged by conda-forge | (main, Feb  2 2023, 20:26:08) [Clang 14.0.6 ]\n"
     ]
    }
   ],
   "source": [
    "import sys\n",
    "\n",
    "print(\"Python:               \", sys.version)"
   ]
  },
  {
   "cell_type": "code",
   "execution_count": 3,
   "metadata": {},
   "outputs": [
    {
     "name": "stdout",
     "output_type": "stream",
     "text": [
      "Transformers Version: 4.27.1\n",
      "Datasets Version:     2.10.1\n",
      "Evaluate Version:     0.2.2\n"
     ]
    }
   ],
   "source": [
    "import transformers, datasets, evaluate\n",
    "\n",
    "print(\"Transformers Version:\", transformers.__version__)\n",
    "print(\"Datasets Version:    \", datasets.__version__)\n",
    "print(\"Evaluate Version:    \", evaluate.__version__)"
   ]
  },
  {
   "cell_type": "code",
   "execution_count": 4,
   "metadata": {},
   "outputs": [
    {
     "name": "stdout",
     "output_type": "stream",
     "text": [
      "zsh:1: no matches found: checkpoints/*\n",
      "zsh:1: no matches found: model/*\n"
     ]
    }
   ],
   "source": [
    "!rm -rf checkpoints/*\n",
    "\n",
    "!rm -rf model/*"
   ]
  },
  {
   "cell_type": "markdown",
   "metadata": {},
   "source": [
    "## Get Raw IMDB Dataset of 50K Movie Reviews"
   ]
  },
  {
   "cell_type": "code",
   "execution_count": 5,
   "metadata": {},
   "outputs": [],
   "source": [
    "from datasets import load_dataset_builder\n",
    "\n",
    "imdbreviews_dataset_builder = load_dataset_builder(DATASET)"
   ]
  },
  {
   "cell_type": "code",
   "execution_count": 6,
   "metadata": {},
   "outputs": [
    {
     "name": "stdout",
     "output_type": "stream",
     "text": [
      "Large Movie Review Dataset.\n",
      "This is a dataset for binary sentiment classification containing substantially more data than previous benchmark datasets. We provide a set of 25,000 highly polar movie reviews for training, and 25,000 for testing. There is additional unlabeled data for use as well.\n"
     ]
    }
   ],
   "source": [
    "print(imdbreviews_dataset_builder.info.description)"
   ]
  },
  {
   "cell_type": "code",
   "execution_count": 7,
   "metadata": {},
   "outputs": [
    {
     "name": "stderr",
     "output_type": "stream",
     "text": [
      "Found cached dataset imdb (/Users/lothar/.cache/huggingface/datasets/imdb/plain_text/1.0.0/d613c88cf8fa3bab83b4ded3713f1f74830d1100e171db75bbddb80b3345c9c0)\n"
     ]
    },
    {
     "data": {
      "application/vnd.jupyter.widget-view+json": {
       "model_id": "c6c8c7e14e714f3a818e9378ee2c3fec",
       "version_major": 2,
       "version_minor": 0
      },
      "text/plain": [
       "  0%|          | 0/3 [00:00<?, ?it/s]"
      ]
     },
     "metadata": {},
     "output_type": "display_data"
    }
   ],
   "source": [
    "from datasets import load_dataset\n",
    "\n",
    "imdbreviews_datasets = load_dataset(DATASET)"
   ]
  },
  {
   "cell_type": "code",
   "execution_count": 8,
   "metadata": {},
   "outputs": [
    {
     "data": {
      "text/plain": [
       "DatasetDict({\n",
       "    train: Dataset({\n",
       "        features: ['text', 'label'],\n",
       "        num_rows: 25000\n",
       "    })\n",
       "    test: Dataset({\n",
       "        features: ['text', 'label'],\n",
       "        num_rows: 25000\n",
       "    })\n",
       "    unsupervised: Dataset({\n",
       "        features: ['text', 'label'],\n",
       "        num_rows: 50000\n",
       "    })\n",
       "})"
      ]
     },
     "execution_count": 8,
     "metadata": {},
     "output_type": "execute_result"
    }
   ],
   "source": [
    "imdbreviews_datasets"
   ]
  },
  {
   "attachments": {},
   "cell_type": "markdown",
   "metadata": {},
   "source": [
    "## Get Pretrained GPT-2 Tokenizer And Model"
   ]
  },
  {
   "cell_type": "code",
   "execution_count": 9,
   "metadata": {},
   "outputs": [
    {
     "name": "stderr",
     "output_type": "stream",
     "text": [
      "Some weights of GPT2ForSequenceClassification were not initialized from the model checkpoint at gpt2 and are newly initialized: ['score.weight']\n",
      "You should probably TRAIN this model on a down-stream task to be able to use it for predictions and inference.\n"
     ]
    }
   ],
   "source": [
    "from transformers import AutoModelForSequenceClassification, AutoTokenizer\n",
    "\n",
    "tokenizer = AutoTokenizer.from_pretrained(MODEL)\n",
    "\n",
    "tokenizer.pad_token = tokenizer.eos_token\n",
    "\n",
    "model = AutoModelForSequenceClassification.from_pretrained(MODEL, num_labels=2)\n",
    "\n",
    "model.config.pad_token_id = model.config.eos_token_id"
   ]
  },
  {
   "cell_type": "code",
   "execution_count": 10,
   "metadata": {},
   "outputs": [
    {
     "data": {
      "text/plain": [
       "GPT2ForSequenceClassification(\n",
       "  (transformer): GPT2Model(\n",
       "    (wte): Embedding(50257, 768)\n",
       "    (wpe): Embedding(1024, 768)\n",
       "    (drop): Dropout(p=0.1, inplace=False)\n",
       "    (h): ModuleList(\n",
       "      (0-11): 12 x GPT2Block(\n",
       "        (ln_1): LayerNorm((768,), eps=1e-05, elementwise_affine=True)\n",
       "        (attn): GPT2Attention(\n",
       "          (c_attn): Conv1D()\n",
       "          (c_proj): Conv1D()\n",
       "          (attn_dropout): Dropout(p=0.1, inplace=False)\n",
       "          (resid_dropout): Dropout(p=0.1, inplace=False)\n",
       "        )\n",
       "        (ln_2): LayerNorm((768,), eps=1e-05, elementwise_affine=True)\n",
       "        (mlp): GPT2MLP(\n",
       "          (c_fc): Conv1D()\n",
       "          (c_proj): Conv1D()\n",
       "          (act): NewGELUActivation()\n",
       "          (dropout): Dropout(p=0.1, inplace=False)\n",
       "        )\n",
       "      )\n",
       "    )\n",
       "    (ln_f): LayerNorm((768,), eps=1e-05, elementwise_affine=True)\n",
       "  )\n",
       "  (score): Linear(in_features=768, out_features=2, bias=False)\n",
       ")"
      ]
     },
     "execution_count": 10,
     "metadata": {},
     "output_type": "execute_result"
    }
   ],
   "source": [
    "model"
   ]
  },
  {
   "cell_type": "markdown",
   "metadata": {},
   "source": [
    "## Prepare Data"
   ]
  },
  {
   "cell_type": "code",
   "execution_count": 11,
   "metadata": {},
   "outputs": [
    {
     "name": "stderr",
     "output_type": "stream",
     "text": [
      "Loading cached processed dataset at /Users/lothar/.cache/huggingface/datasets/imdb/plain_text/1.0.0/d613c88cf8fa3bab83b4ded3713f1f74830d1100e171db75bbddb80b3345c9c0/cache-f84331f291d42698.arrow\n",
      "Loading cached processed dataset at /Users/lothar/.cache/huggingface/datasets/imdb/plain_text/1.0.0/d613c88cf8fa3bab83b4ded3713f1f74830d1100e171db75bbddb80b3345c9c0/cache-82f0693f6bc6972a.arrow\n",
      "Loading cached processed dataset at /Users/lothar/.cache/huggingface/datasets/imdb/plain_text/1.0.0/d613c88cf8fa3bab83b4ded3713f1f74830d1100e171db75bbddb80b3345c9c0/cache-eada2e42c71f05b3.arrow\n"
     ]
    }
   ],
   "source": [
    "def tokenize(examples):\n",
    "    outputs = tokenizer(examples['text'], padding=True, truncation=True, max_length=512)\n",
    "    return outputs\n",
    "\n",
    "tokenized_imdbreviews_datasets = imdbreviews_datasets.map(tokenize, batched=True)"
   ]
  },
  {
   "cell_type": "code",
   "execution_count": 12,
   "metadata": {},
   "outputs": [
    {
     "data": {
      "text/plain": [
       "DatasetDict({\n",
       "    train: Dataset({\n",
       "        features: ['text', 'label', 'input_ids', 'attention_mask'],\n",
       "        num_rows: 25000\n",
       "    })\n",
       "    test: Dataset({\n",
       "        features: ['text', 'label', 'input_ids', 'attention_mask'],\n",
       "        num_rows: 25000\n",
       "    })\n",
       "    unsupervised: Dataset({\n",
       "        features: ['text', 'label', 'input_ids', 'attention_mask'],\n",
       "        num_rows: 50000\n",
       "    })\n",
       "})"
      ]
     },
     "execution_count": 12,
     "metadata": {},
     "output_type": "execute_result"
    }
   ],
   "source": [
    "tokenized_imdbreviews_datasets"
   ]
  },
  {
   "cell_type": "code",
   "execution_count": 13,
   "metadata": {},
   "outputs": [
    {
     "name": "stderr",
     "output_type": "stream",
     "text": [
      "Loading cached shuffled indices for dataset at /Users/lothar/.cache/huggingface/datasets/imdb/plain_text/1.0.0/d613c88cf8fa3bab83b4ded3713f1f74830d1100e171db75bbddb80b3345c9c0/cache-9b55e236c2a8f21f.arrow\n",
      "Loading cached shuffled indices for dataset at /Users/lothar/.cache/huggingface/datasets/imdb/plain_text/1.0.0/d613c88cf8fa3bab83b4ded3713f1f74830d1100e171db75bbddb80b3345c9c0/cache-2ffc9ec39cdfe68b.arrow\n"
     ]
    }
   ],
   "source": [
    "small_train_dataset = tokenized_imdbreviews_datasets[\"train\"].shuffle(seed=42).select(range(1000))\n",
    "small_eval_dataset = tokenized_imdbreviews_datasets[\"test\"].shuffle(seed=42).select(range(1000))"
   ]
  },
  {
   "cell_type": "code",
   "execution_count": 14,
   "metadata": {},
   "outputs": [],
   "source": [
    "full_train_dataset = tokenized_imdbreviews_datasets[\"train\"]\n",
    "full_eval_dataset = tokenized_imdbreviews_datasets[\"test\"]"
   ]
  },
  {
   "cell_type": "code",
   "execution_count": 15,
   "metadata": {},
   "outputs": [],
   "source": [
    "train_dataset = small_train_dataset\n",
    "\n",
    "eval_dataset = small_eval_dataset"
   ]
  },
  {
   "attachments": {},
   "cell_type": "markdown",
   "metadata": {},
   "source": [
    "## Finetune Pretrained GPT-2 Model"
   ]
  },
  {
   "cell_type": "markdown",
   "metadata": {},
   "source": [
    "### Metrics"
   ]
  },
  {
   "cell_type": "code",
   "execution_count": 16,
   "metadata": {},
   "outputs": [],
   "source": [
    "import evaluate\n",
    "import numpy as np\n",
    "\n",
    "metric = evaluate.load(\"accuracy\", \"loss\")\n",
    "\n",
    "def compute_metrics(eval_pred):\n",
    "    predictions, labels = eval_pred\n",
    "    predictions = np.argmax(predictions, axis=1)\n",
    "    return metric.compute(predictions=predictions, references=labels)"
   ]
  },
  {
   "cell_type": "markdown",
   "metadata": {},
   "source": [
    "### Training Arguments"
   ]
  },
  {
   "cell_type": "code",
   "execution_count": 17,
   "metadata": {},
   "outputs": [],
   "source": [
    "from transformers import TrainingArguments\n",
    "\n",
    "SEED=42\n",
    "BATCH_SIZE=8\n",
    "\n",
    "args = TrainingArguments(\n",
    "    seed=SEED,\n",
    "    output_dir=\"./checkpoints\",             # checkpointing\n",
    "    overwrite_output_dir=True,\n",
    "    save_strategy=\"epoch\",                  # evaluating+saving\n",
    "    evaluation_strategy=\"epoch\",\n",
    "    logging_dir=\"logs\",                     # logging\n",
    "    logging_strategy=\"no\",\n",
    "    per_device_train_batch_size=BATCH_SIZE, # batching\n",
    "    per_device_eval_batch_size=BATCH_SIZE,\n",
    "    num_train_epochs=3,\n",
    "    learning_rate=5e-05,\n",
    "    lr_scheduler_type=\"linear\",\n",
    "    weight_decay=0,\n",
    "    adam_beta1=0.9,\n",
    "    adam_beta2=0.999,\n",
    "    adam_epsilon=1e-08,\n",
    "    optim=\"adamw_torch\",\n",
    "    use_mps_device=True                     # accelerating\n",
    ")"
   ]
  },
  {
   "attachments": {},
   "cell_type": "markdown",
   "metadata": {},
   "source": [
    "### Trainer"
   ]
  },
  {
   "cell_type": "code",
   "execution_count": 18,
   "metadata": {},
   "outputs": [],
   "source": [
    "from transformers import Trainer\n",
    "\n",
    "trainer = Trainer(\n",
    "    model=model,\n",
    "    args=args,\n",
    "    train_dataset=train_dataset,\n",
    "    eval_dataset=eval_dataset,\n",
    "    compute_metrics=compute_metrics\n",
    ")"
   ]
  },
  {
   "attachments": {},
   "cell_type": "markdown",
   "metadata": {},
   "source": [
    "## Training"
   ]
  },
  {
   "cell_type": "code",
   "execution_count": 19,
   "metadata": {},
   "outputs": [
    {
     "data": {
      "application/vnd.jupyter.widget-view+json": {
       "model_id": "f625589f57ab4e79950d41d879d2f477",
       "version_major": 2,
       "version_minor": 0
      },
      "text/plain": [
       "  0%|          | 0/375 [00:00<?, ?it/s]"
      ]
     },
     "metadata": {},
     "output_type": "display_data"
    },
    {
     "data": {
      "application/vnd.jupyter.widget-view+json": {
       "model_id": "8b00e161eed34c4aa75409be87cd1203",
       "version_major": 2,
       "version_minor": 0
      },
      "text/plain": [
       "  0%|          | 0/125 [00:00<?, ?it/s]"
      ]
     },
     "metadata": {},
     "output_type": "display_data"
    },
    {
     "name": "stdout",
     "output_type": "stream",
     "text": [
      "{'eval_loss': 0.33757448196411133, 'eval_accuracy': 0.886, 'eval_runtime': 33.785, 'eval_samples_per_second': 29.599, 'eval_steps_per_second': 3.7, 'epoch': 1.0}\n"
     ]
    },
    {
     "data": {
      "application/vnd.jupyter.widget-view+json": {
       "model_id": "983607bcdabd4103badfa3eaf6174173",
       "version_major": 2,
       "version_minor": 0
      },
      "text/plain": [
       "  0%|          | 0/125 [00:00<?, ?it/s]"
      ]
     },
     "metadata": {},
     "output_type": "display_data"
    },
    {
     "name": "stdout",
     "output_type": "stream",
     "text": [
      "{'eval_loss': 0.38446563482284546, 'eval_accuracy': 0.88, 'eval_runtime': 33.2571, 'eval_samples_per_second': 30.069, 'eval_steps_per_second': 3.759, 'epoch': 2.0}\n"
     ]
    },
    {
     "data": {
      "application/vnd.jupyter.widget-view+json": {
       "model_id": "aaf46efc0c3648b183c0fbefd79cf459",
       "version_major": 2,
       "version_minor": 0
      },
      "text/plain": [
       "  0%|          | 0/125 [00:00<?, ?it/s]"
      ]
     },
     "metadata": {},
     "output_type": "display_data"
    },
    {
     "name": "stdout",
     "output_type": "stream",
     "text": [
      "{'eval_loss': 0.4848141372203827, 'eval_accuracy': 0.888, 'eval_runtime': 33.315, 'eval_samples_per_second': 30.016, 'eval_steps_per_second': 3.752, 'epoch': 3.0}\n",
      "{'train_runtime': 434.238, 'train_samples_per_second': 6.909, 'train_steps_per_second': 0.864, 'train_loss': 0.32628098551432294, 'epoch': 3.0}\n"
     ]
    },
    {
     "data": {
      "text/plain": [
       "TrainOutput(global_step=375, training_loss=0.32628098551432294, metrics={'train_runtime': 434.238, 'train_samples_per_second': 6.909, 'train_steps_per_second': 0.864, 'train_loss': 0.32628098551432294, 'epoch': 3.0})"
      ]
     },
     "execution_count": 19,
     "metadata": {},
     "output_type": "execute_result"
    }
   ],
   "source": [
    "trainer.train()"
   ]
  },
  {
   "attachments": {},
   "cell_type": "markdown",
   "metadata": {},
   "source": [
    "## Save Finetuned Model Locally"
   ]
  },
  {
   "cell_type": "code",
   "execution_count": 20,
   "metadata": {},
   "outputs": [],
   "source": [
    "trainer.model.save_pretrained(save_directory=\"model\")"
   ]
  },
  {
   "cell_type": "code",
   "execution_count": 21,
   "metadata": {},
   "outputs": [
    {
     "data": {
      "application/vnd.jupyter.widget-view+json": {
       "model_id": "3f27d365473e438f868c9e4539d59f66",
       "version_major": 2,
       "version_minor": 0
      },
      "text/plain": [
       "pytorch_model.bin:   0%|          | 0.00/510M [00:00<?, ?B/s]"
      ]
     },
     "metadata": {},
     "output_type": "display_data"
    },
    {
     "data": {
      "application/vnd.jupyter.widget-view+json": {
       "model_id": "4fc3cc57ab9f44d0b6cd2267ea54f54f",
       "version_major": 2,
       "version_minor": 0
      },
      "text/plain": [
       "Upload 1 LFS files:   0%|          | 0/1 [00:00<?, ?it/s]"
      ]
     },
     "metadata": {},
     "output_type": "display_data"
    },
    {
     "data": {
      "text/plain": [
       "CommitInfo(commit_url='https://huggingface.co/lwieske/wip-gpt2-finetuned-imdbreviews-fast/commit/5e9d834c3440dda9acd2f5bcdfca059f5b7c5584', commit_message='Upload tokenizer', commit_description='', oid='5e9d834c3440dda9acd2f5bcdfca059f5b7c5584', pr_url=None, pr_revision=None, pr_num=None)"
      ]
     },
     "execution_count": 21,
     "metadata": {},
     "output_type": "execute_result"
    }
   ],
   "source": [
    "MODEL_NAME=\"wip-gpt2-finetuned-imdbreviews-fast\"\n",
    "\n",
    "model.push_to_hub(MODEL_NAME)\n",
    "\n",
    "tokenizer.push_to_hub(MODEL_NAME)"
   ]
  },
  {
   "cell_type": "code",
   "execution_count": 22,
   "metadata": {},
   "outputs": [],
   "source": [
    "step_list = [log['step'] for log in trainer.state.log_history[:-1]]\n",
    "\n",
    "eval_loss_list = [log['eval_loss'] for log in trainer.state.log_history[:-1]]\n",
    "\n",
    "eval_accuracy_list = [log['eval_accuracy'] for log in trainer.state.log_history[:-1]]"
   ]
  },
  {
   "cell_type": "code",
   "execution_count": 23,
   "metadata": {},
   "outputs": [
    {
     "data": {
      "image/png": "[encoded data removed]",
      "text/plain": [
       "<Figure size 2000x500 with 2 Axes>"
      ]
     },
     "metadata": {},
     "output_type": "display_data"
    }
   ],
   "source": [
    "import matplotlib.pyplot as plt\n",
    "\n",
    "plt.subplots(1,2, figsize=(20,5))\n",
    "\n",
    "plt.subplot(1, 2, 1)\n",
    "plt.title(\"Evaluation Loss\")\n",
    "plt.xlabel(\"Step\")\n",
    "plt.ylabel(\"Loss\")\n",
    "plt.plot(step_list, eval_loss_list)\n",
    "\n",
    "plt.subplot(1, 2, 2)\n",
    "plt.title(\"Evaluation Accuracy\")\n",
    "plt.xlabel(\"Step\")\n",
    "plt.ylabel(\"Acc\")\n",
    "plt.plot(step_list, eval_accuracy_list)\n",
    "\n",
    "plt.show()"
   ]
  },
  {
   "cell_type": "code",
   "execution_count": 24,
   "metadata": {},
   "outputs": [
    {
     "name": "stdout",
     "output_type": "stream",
     "text": [
      "\u001b[01;34mcheckpoints\u001b[0m\n",
      "├── \u001b[01;34mcheckpoint-125\u001b[0m\n",
      "│   ├── \u001b[00mconfig.json\u001b[0m\n",
      "│   ├── \u001b[00moptimizer.pt\u001b[0m\n",
      "│   ├── \u001b[00mpytorch_model.bin\u001b[0m\n",
      "│   ├── \u001b[00mrng_state.pth\u001b[0m\n",
      "│   ├── \u001b[00mscheduler.pt\u001b[0m\n",
      "│   ├── \u001b[00mtrainer_state.json\u001b[0m\n",
      "│   └── \u001b[00mtraining_args.bin\u001b[0m\n",
      "├── \u001b[01;34mcheckpoint-250\u001b[0m\n",
      "│   ├── \u001b[00mconfig.json\u001b[0m\n",
      "│   ├── \u001b[00moptimizer.pt\u001b[0m\n",
      "│   ├── \u001b[00mpytorch_model.bin\u001b[0m\n",
      "│   ├── \u001b[00mrng_state.pth\u001b[0m\n",
      "│   ├── \u001b[00mscheduler.pt\u001b[0m\n",
      "│   ├── \u001b[00mtrainer_state.json\u001b[0m\n",
      "│   └── \u001b[00mtraining_args.bin\u001b[0m\n",
      "└── \u001b[01;34mcheckpoint-375\u001b[0m\n",
      "    ├── \u001b[00mconfig.json\u001b[0m\n",
      "    ├── \u001b[00moptimizer.pt\u001b[0m\n",
      "    ├── \u001b[00mpytorch_model.bin\u001b[0m\n",
      "    ├── \u001b[00mrng_state.pth\u001b[0m\n",
      "    ├── \u001b[00mscheduler.pt\u001b[0m\n",
      "    ├── \u001b[00mtrainer_state.json\u001b[0m\n",
      "    └── \u001b[00mtraining_args.bin\u001b[0m\n",
      "\n",
      "4 directories, 21 files\n"
     ]
    }
   ],
   "source": [
    "!tree checkpoints"
   ]
  },
  {
   "cell_type": "code",
   "execution_count": 25,
   "metadata": {},
   "outputs": [
    {
     "name": "stdout",
     "output_type": "stream",
     "text": [
      "\u001b[01;34mmodel\u001b[0m\n",
      "├── \u001b[00mconfig.json\u001b[0m\n",
      "└── \u001b[00mpytorch_model.bin\u001b[0m\n",
      "\n",
      "1 directory, 2 files\n"
     ]
    }
   ],
   "source": [
    "!tree model"
   ]
  }
 ],
 "metadata": {
  "kernelspec": {
   "display_name": "pytorch_huggingface_transformers_m1",
   "language": "python",
   "name": "python3"
  },
  "language_info": {
   "codemirror_mode": {
    "name": "ipython",
    "version": 3
   },
   "file_extension": ".py",
   "mimetype": "text/x-python",
   "name": "python",
   "nbconvert_exporter": "python",
   "pygments_lexer": "ipython3",
   "version": "3.10.9"
  },
  "orig_nbformat": 4
 },
 "nbformat": 4,
 "nbformat_minor": 2
}
